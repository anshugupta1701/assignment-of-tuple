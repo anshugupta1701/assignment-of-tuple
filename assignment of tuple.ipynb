{
 "cells": [
  {
   "cell_type": "code",
   "execution_count": 1,
   "id": "0aecee94-1a67-4f9b-a6e1-28e6e6fdd0c0",
   "metadata": {},
   "outputs": [],
   "source": [
    "#assignment of tuples\n"
   ]
  },
  {
   "cell_type": "code",
   "execution_count": 2,
   "id": "c662cac3-c39d-4955-b9e0-171eacaf79d1",
   "metadata": {},
   "outputs": [],
   "source": [
    "# a tuple is basically a collection of data that is immutable(means it cannot be changed like a list)"
   ]
  },
  {
   "cell_type": "code",
   "execution_count": 3,
   "id": "ca264e0e-2aaa-435b-9d18-38c2a95734cb",
   "metadata": {},
   "outputs": [],
   "source": [
    "t=(\"anshu gupta\",\"python\",1,2,3)\n",
    "## we can create a tuple by using  such ()brackets"
   ]
  },
  {
   "cell_type": "code",
   "execution_count": 21,
   "id": "30722862-9d25-4179-87a8-27f6cf5881d0",
   "metadata": {},
   "outputs": [],
   "source": [
    "# a list can be altered whereas a tuple cannot be altered\n",
    "l=[\"anshu gupta\",\"vivek\",\"python\",1,2,3]\n",
    "t=(\"anshu gupta\",\"vivek\",\"python\",1,2,3,4)"
   ]
  },
  {
   "cell_type": "code",
   "execution_count": 22,
   "id": "b9546532-3e72-499e-990d-aa6298c504c6",
   "metadata": {},
   "outputs": [],
   "source": [
    "l[1]=\"vivek oberoy\""
   ]
  },
  {
   "cell_type": "code",
   "execution_count": 6,
   "id": "56a51848-7592-474a-a3ce-d8f2d084fb74",
   "metadata": {},
   "outputs": [
    {
     "data": {
      "text/plain": [
       "['anshu gupta', 'vivek oberoy', 'python', 1, 2, 3]"
      ]
     },
     "execution_count": 6,
     "metadata": {},
     "output_type": "execute_result"
    }
   ],
   "source": [
    "l"
   ]
  },
  {
   "cell_type": "code",
   "execution_count": 9,
   "id": "683cc1dc-88ce-4d97-9ec3-e7ec6dae9697",
   "metadata": {},
   "outputs": [
    {
     "ename": "TypeError",
     "evalue": "'tuple' object does not support item assignment",
     "output_type": "error",
     "traceback": [
      "\u001b[0;31m---------------------------------------------------------------------------\u001b[0m",
      "\u001b[0;31mTypeError\u001b[0m                                 Traceback (most recent call last)",
      "Cell \u001b[0;32mIn[9], line 1\u001b[0m\n\u001b[0;32m----> 1\u001b[0m \u001b[43mt\u001b[49m\u001b[43m[\u001b[49m\u001b[38;5;241;43m1\u001b[39;49m\u001b[43m]\u001b[49m\u001b[38;5;241m=\u001b[39m\u001b[38;5;124m\"\u001b[39m\u001b[38;5;124mvivek oberoy\u001b[39m\u001b[38;5;124m\"\u001b[39m\n",
      "\u001b[0;31mTypeError\u001b[0m: 'tuple' object does not support item assignment"
     ]
    }
   ],
   "source": [
    "t[1]=\"vivek oberoy\""
   ]
  },
  {
   "cell_type": "code",
   "execution_count": 10,
   "id": "9078e1e7-e473-4f5d-9406-aad02c0f6e26",
   "metadata": {},
   "outputs": [
    {
     "data": {
      "text/plain": [
       "'anshu gupta'"
      ]
     },
     "execution_count": 10,
     "metadata": {},
     "output_type": "execute_result"
    }
   ],
   "source": [
    "# we can simply access the elements of tuple by using indices of the elements\n",
    "t[0]"
   ]
  },
  {
   "cell_type": "code",
   "execution_count": 18,
   "id": "0bb0c5e8-898a-44e1-8233-c4b1218c851f",
   "metadata": {},
   "outputs": [],
   "source": [
    "# we can unpack a tuple by converting it into a list or a set"
   ]
  },
  {
   "cell_type": "code",
   "execution_count": 26,
   "id": "6955be3f-4465-4507-9b83-ddc9b33283da",
   "metadata": {},
   "outputs": [],
   "source": [
    "#for example\n",
    "t1=(\"pintu\",\"mintu\",\"sintu\",\"chintu\")"
   ]
  },
  {
   "cell_type": "code",
   "execution_count": 28,
   "id": "e2fa6bdd-8391-427a-9301-2f3a221e264e",
   "metadata": {},
   "outputs": [
    {
     "data": {
      "text/plain": [
       "{'chintu', 'mintu', 'pintu', 'sintu'}"
      ]
     },
     "execution_count": 28,
     "metadata": {},
     "output_type": "execute_result"
    }
   ],
   "source": [
    "set(t1)"
   ]
  },
  {
   "cell_type": "code",
   "execution_count": null,
   "id": "c6d9e81b-8bcd-4988-af4c-0b324a373dfc",
   "metadata": {},
   "outputs": [],
   "source": []
  }
 ],
 "metadata": {
  "kernelspec": {
   "display_name": "Python 3 (ipykernel)",
   "language": "python",
   "name": "python3"
  },
  "language_info": {
   "codemirror_mode": {
    "name": "ipython",
    "version": 3
   },
   "file_extension": ".py",
   "mimetype": "text/x-python",
   "name": "python",
   "nbconvert_exporter": "python",
   "pygments_lexer": "ipython3",
   "version": "3.10.8"
  }
 },
 "nbformat": 4,
 "nbformat_minor": 5
}
